{
 "cells": [
  {
   "cell_type": "markdown",
   "metadata": {
    "id": "Wo1ufmPy6Xqm"
   },
   "source": [
    "#### Setting Up"
   ]
  },
  {
   "cell_type": "markdown",
   "metadata": {},
   "source": [
    "##### pip"
   ]
  },
  {
   "cell_type": "code",
   "execution_count": null,
   "metadata": {},
   "outputs": [],
   "source": [
    "!pip install -q datasets\n",
    "!pip install -q peft\n",
    "!pip install -q evaluate\n",
    "!pip install -q rouge_score"
   ]
  },
  {
   "cell_type": "markdown",
   "metadata": {},
   "source": [
    "##### libraries"
   ]
  },
  {
   "cell_type": "code",
   "execution_count": null,
   "metadata": {
    "id": "t2JeAn1opGwv"
   },
   "outputs": [],
   "source": [
    "import torch\n",
    "import pandas as pd\n",
    "from tqdm import tqdm\n",
    "import seaborn as sns\n",
    "import matplotlib.pyplot as plt\n",
    "from datasets import Dataset\n",
    "from rouge_score import rouge_scorer\n",
    "from sklearn.model_selection import train_test_split\n",
    "from transformers import (\n",
    "    AutoModelForSeq2SeqLM,\n",
    "    AutoTokenizer,\n",
    "    Trainer,\n",
    "    TrainingArguments,\n",
    "    DataCollatorForSeq2Seq)"
   ]
  },
  {
   "cell_type": "markdown",
   "metadata": {},
   "source": [
    "##### config"
   ]
  },
  {
   "cell_type": "code",
   "execution_count": 2,
   "metadata": {},
   "outputs": [],
   "source": [
    "MODEL_NAME = \"ai-forever/ruT5-base\"\n",
    "CACHE_DIR = 'data/finetune/model_cache'\n",
    "OUTPUT_DIR = 'data/finetune/fine_tuned_model'\n",
    "MODEL_DIR = \"./trained_model\""
   ]
  },
  {
   "cell_type": "markdown",
   "metadata": {},
   "source": [
    "#### Data"
   ]
  },
  {
   "cell_type": "code",
   "execution_count": 14,
   "metadata": {},
   "outputs": [],
   "source": [
    "# load preprocessed dataset\n",
    "data_full = pd.read_csv(\"/content/synthetic.csv\")"
   ]
  },
  {
   "cell_type": "code",
   "execution_count": 16,
   "metadata": {},
   "outputs": [
    {
     "data": {
      "text/plain": [
       "(14039, 4)"
      ]
     },
     "execution_count": 16,
     "metadata": {},
     "output_type": "execute_result"
    }
   ],
   "source": [
    "# data size\n",
    "data_full.shape"
   ]
  },
  {
   "cell_type": "code",
   "execution_count": 20,
   "metadata": {},
   "outputs": [],
   "source": [
    "# stratified splitting to preserve balance\n",
    "train_data, val_data = train_test_split(data_full,\n",
    "                                        test_size=0.1,\n",
    "                                        random_state=42,\n",
    "                                        stratify=data_full[['category', 'sentiment']])"
   ]
  },
  {
   "cell_type": "markdown",
   "metadata": {},
   "source": [
    "#### Model Prerequisites"
   ]
  },
  {
   "cell_type": "code",
   "execution_count": null,
   "metadata": {},
   "outputs": [],
   "source": [
    "# load tokenizer and model\n",
    "tokenizer = AutoTokenizer.from_pretrained(MODEL_NAME, cache_dir=CACHE_DIR)\n",
    "model = AutoModelForSeq2SeqLM.from_pretrained(MODEL_NAME, cache_dir=CACHE_DIR)"
   ]
  },
  {
   "cell_type": "markdown",
   "metadata": {},
   "source": [
    "##### or"
   ]
  },
  {
   "cell_type": "code",
   "execution_count": 7,
   "metadata": {},
   "outputs": [
    {
     "data": {
      "text/plain": [
       "T5ForConditionalGeneration(\n",
       "  (shared): Embedding(32128, 768)\n",
       "  (encoder): T5Stack(\n",
       "    (embed_tokens): Embedding(32128, 768)\n",
       "    (block): ModuleList(\n",
       "      (0): T5Block(\n",
       "        (layer): ModuleList(\n",
       "          (0): T5LayerSelfAttention(\n",
       "            (SelfAttention): T5Attention(\n",
       "              (q): Linear(in_features=768, out_features=768, bias=False)\n",
       "              (k): Linear(in_features=768, out_features=768, bias=False)\n",
       "              (v): Linear(in_features=768, out_features=768, bias=False)\n",
       "              (o): Linear(in_features=768, out_features=768, bias=False)\n",
       "              (relative_attention_bias): Embedding(32, 12)\n",
       "            )\n",
       "            (layer_norm): T5LayerNorm()\n",
       "            (dropout): Dropout(p=0.1, inplace=False)\n",
       "          )\n",
       "          (1): T5LayerFF(\n",
       "            (DenseReluDense): T5DenseActDense(\n",
       "              (wi): Linear(in_features=768, out_features=3072, bias=False)\n",
       "              (wo): Linear(in_features=3072, out_features=768, bias=False)\n",
       "              (dropout): Dropout(p=0.1, inplace=False)\n",
       "              (act): ReLU()\n",
       "            )\n",
       "            (layer_norm): T5LayerNorm()\n",
       "            (dropout): Dropout(p=0.1, inplace=False)\n",
       "          )\n",
       "        )\n",
       "      )\n",
       "      (1-11): 11 x T5Block(\n",
       "        (layer): ModuleList(\n",
       "          (0): T5LayerSelfAttention(\n",
       "            (SelfAttention): T5Attention(\n",
       "              (q): Linear(in_features=768, out_features=768, bias=False)\n",
       "              (k): Linear(in_features=768, out_features=768, bias=False)\n",
       "              (v): Linear(in_features=768, out_features=768, bias=False)\n",
       "              (o): Linear(in_features=768, out_features=768, bias=False)\n",
       "            )\n",
       "            (layer_norm): T5LayerNorm()\n",
       "            (dropout): Dropout(p=0.1, inplace=False)\n",
       "          )\n",
       "          (1): T5LayerFF(\n",
       "            (DenseReluDense): T5DenseActDense(\n",
       "              (wi): Linear(in_features=768, out_features=3072, bias=False)\n",
       "              (wo): Linear(in_features=3072, out_features=768, bias=False)\n",
       "              (dropout): Dropout(p=0.1, inplace=False)\n",
       "              (act): ReLU()\n",
       "            )\n",
       "            (layer_norm): T5LayerNorm()\n",
       "            (dropout): Dropout(p=0.1, inplace=False)\n",
       "          )\n",
       "        )\n",
       "      )\n",
       "    )\n",
       "    (final_layer_norm): T5LayerNorm()\n",
       "    (dropout): Dropout(p=0.1, inplace=False)\n",
       "  )\n",
       "  (decoder): T5Stack(\n",
       "    (embed_tokens): Embedding(32128, 768)\n",
       "    (block): ModuleList(\n",
       "      (0): T5Block(\n",
       "        (layer): ModuleList(\n",
       "          (0): T5LayerSelfAttention(\n",
       "            (SelfAttention): T5Attention(\n",
       "              (q): Linear(in_features=768, out_features=768, bias=False)\n",
       "              (k): Linear(in_features=768, out_features=768, bias=False)\n",
       "              (v): Linear(in_features=768, out_features=768, bias=False)\n",
       "              (o): Linear(in_features=768, out_features=768, bias=False)\n",
       "              (relative_attention_bias): Embedding(32, 12)\n",
       "            )\n",
       "            (layer_norm): T5LayerNorm()\n",
       "            (dropout): Dropout(p=0.1, inplace=False)\n",
       "          )\n",
       "          (1): T5LayerCrossAttention(\n",
       "            (EncDecAttention): T5Attention(\n",
       "              (q): Linear(in_features=768, out_features=768, bias=False)\n",
       "              (k): Linear(in_features=768, out_features=768, bias=False)\n",
       "              (v): Linear(in_features=768, out_features=768, bias=False)\n",
       "              (o): Linear(in_features=768, out_features=768, bias=False)\n",
       "            )\n",
       "            (layer_norm): T5LayerNorm()\n",
       "            (dropout): Dropout(p=0.1, inplace=False)\n",
       "          )\n",
       "          (2): T5LayerFF(\n",
       "            (DenseReluDense): T5DenseActDense(\n",
       "              (wi): Linear(in_features=768, out_features=3072, bias=False)\n",
       "              (wo): Linear(in_features=3072, out_features=768, bias=False)\n",
       "              (dropout): Dropout(p=0.1, inplace=False)\n",
       "              (act): ReLU()\n",
       "            )\n",
       "            (layer_norm): T5LayerNorm()\n",
       "            (dropout): Dropout(p=0.1, inplace=False)\n",
       "          )\n",
       "        )\n",
       "      )\n",
       "      (1-11): 11 x T5Block(\n",
       "        (layer): ModuleList(\n",
       "          (0): T5LayerSelfAttention(\n",
       "            (SelfAttention): T5Attention(\n",
       "              (q): Linear(in_features=768, out_features=768, bias=False)\n",
       "              (k): Linear(in_features=768, out_features=768, bias=False)\n",
       "              (v): Linear(in_features=768, out_features=768, bias=False)\n",
       "              (o): Linear(in_features=768, out_features=768, bias=False)\n",
       "            )\n",
       "            (layer_norm): T5LayerNorm()\n",
       "            (dropout): Dropout(p=0.1, inplace=False)\n",
       "          )\n",
       "          (1): T5LayerCrossAttention(\n",
       "            (EncDecAttention): T5Attention(\n",
       "              (q): Linear(in_features=768, out_features=768, bias=False)\n",
       "              (k): Linear(in_features=768, out_features=768, bias=False)\n",
       "              (v): Linear(in_features=768, out_features=768, bias=False)\n",
       "              (o): Linear(in_features=768, out_features=768, bias=False)\n",
       "            )\n",
       "            (layer_norm): T5LayerNorm()\n",
       "            (dropout): Dropout(p=0.1, inplace=False)\n",
       "          )\n",
       "          (2): T5LayerFF(\n",
       "            (DenseReluDense): T5DenseActDense(\n",
       "              (wi): Linear(in_features=768, out_features=3072, bias=False)\n",
       "              (wo): Linear(in_features=3072, out_features=768, bias=False)\n",
       "              (dropout): Dropout(p=0.1, inplace=False)\n",
       "              (act): ReLU()\n",
       "            )\n",
       "            (layer_norm): T5LayerNorm()\n",
       "            (dropout): Dropout(p=0.1, inplace=False)\n",
       "          )\n",
       "        )\n",
       "      )\n",
       "    )\n",
       "    (final_layer_norm): T5LayerNorm()\n",
       "    (dropout): Dropout(p=0.1, inplace=False)\n",
       "  )\n",
       "  (lm_head): Linear(in_features=768, out_features=32128, bias=False)\n",
       ")"
      ]
     },
     "execution_count": 7,
     "metadata": {},
     "output_type": "execute_result"
    }
   ],
   "source": [
    "# load the fine-tuned tokenizer and model\n",
    "tokenizer = AutoTokenizer.from_pretrained(OUTPUT_DIR)\n",
    "model = AutoModelForSeq2SeqLM.from_pretrained(OUTPUT_DIR)\n",
    "\n",
    "# ensure the model is on the correct device\n",
    "device = torch.device(\"cuda\" if torch.cuda.is_available() else \"cpu\")\n",
    "model.to(device)"
   ]
  },
  {
   "cell_type": "code",
   "execution_count": null,
   "metadata": {},
   "outputs": [],
   "source": [
    "# preprocessing function\n",
    "def preprocess_function(examples):\n",
    "    \"\"\"\n",
    "    Preprocesses the input examples by tokenizing the 'clean_text' and 'synthetic' fields.\n",
    "\n",
    "    Args:\n",
    "        examples (dict): A dictionary containing the input examples with keys 'clean_text' and 'synthetic'.\n",
    "\n",
    "    Returns:\n",
    "        dict: A dictionary containing tokenized inputs and labels. The keys are:\n",
    "            - 'input_ids': Tokenized input ids of 'clean_text'.\n",
    "            - 'attention_mask': Attention mask for the input ids.\n",
    "            - 'labels': Tokenized input ids of 'synthetic'.\n",
    "    \"\"\"\n",
    "    # tokenize the inputs (clean_text)\n",
    "    inputs = tokenizer(examples['clean_text'],\n",
    "                       max_length=512,\n",
    "                       padding='longest',\n",
    "                       truncation=True)\n",
    "\n",
    "    # tokenize the targets (synthetic)\n",
    "    with tokenizer.as_target_tokenizer():\n",
    "        labels = tokenizer(examples['synthetic'],\n",
    "                           max_length=128, \n",
    "                           padding='longest', \n",
    "                           truncation=True)\n",
    "\n",
    "    inputs['labels'] = labels['input_ids']\n",
    "    return inputs"
   ]
  },
  {
   "cell_type": "code",
   "execution_count": 4,
   "metadata": {
    "colab": {
     "base_uri": "https://localhost:8080/"
    },
    "id": "g8bJ0vkQqFxs",
    "outputId": "fbdede75-0946-49dc-b334-2fa89c7e45f2"
   },
   "outputs": [
    {
     "data": {
      "text/plain": [
       "(14040, 4)"
      ]
     },
     "execution_count": 4,
     "metadata": {},
     "output_type": "execute_result"
    }
   ],
   "source": [
    "# convert pandas DataFrame to Hugging Face Dataset\n",
    "train_dataset = Dataset.from_pandas(train_data[['clean_text', 'synthetic']])\n",
    "val_dataset = Dataset.from_pandas(val_data[['clean_text', 'synthetic']])\n",
    "\n",
    "# apply the preprocessing\n",
    "train_dataset = train_dataset.map(preprocess_function, batched=True, remove_columns=['clean_text', 'synthetic'])\n",
    "val_dataset = val_dataset.map(preprocess_function, batched=True, remove_columns=['clean_text', 'synthetic'])\n",
    "\n",
    "# check dataset sizes\n",
    "print(f\"Обучающая выборка: {len(train_dataset)} записей\")\n",
    "print(f\"Валидационная выборка: {len(val_dataset)} записей\")"
   ]
  },
  {
   "cell_type": "markdown",
   "metadata": {},
   "source": [
    "#### Traning"
   ]
  },
  {
   "cell_type": "code",
   "execution_count": 5,
   "metadata": {
    "id": "AQDWnyuIM7Te"
   },
   "outputs": [],
   "source": [
    "# define training arguments\n",
    "training_args = TrainingArguments(output_dir=OUTPUT_DIR,\n",
    "                                  overwrite_output_dir=True,\n",
    "                                  num_train_epochs=3, # try 5\n",
    "                                  per_device_train_batch_size=4, # or 8\n",
    "                                  per_device_eval_batch_size=4, # or 8\n",
    "                                  gradient_accumulation_steps=2,\n",
    "                                  eval_strategy=\"epoch\",\n",
    "                                  save_strategy=\"epoch\",\n",
    "                                  save_total_limit=2,\n",
    "                                  max_grad_norm=1.0,\n",
    "                                  learning_rate=5e-5,\n",
    "                                  lr_scheduler_type=\"linear\", # or cosine\n",
    "                                  warmup_ratio=0.1,\n",
    "                                  weight_decay=0.01,\n",
    "                                  fp16=True,\n",
    "                                  load_best_model_at_end=True,\n",
    "                                  metric_for_best_model=\"loss\", \n",
    "                                  greater_is_better=False,\n",
    "                                  report_to=\"none\")\n",
    "\n",
    "# initialize the data collator for seq2seq\n",
    "data_collator = DataCollatorForSeq2Seq(tokenizer=tokenizer, model=model)\n",
    "\n",
    "# initialize the Trainer\n",
    "trainer = Trainer(model=model,\n",
    "                  args=training_args,\n",
    "                  train_dataset=train_dataset,\n",
    "                  eval_dataset=val_dataset,\n",
    "                  data_collator=data_collator,\n",
    "                  processing_class=tokenizer)\n",
    "\n",
    "# start training\n",
    "trainer.train()"
   ]
  },
  {
   "cell_type": "code",
   "execution_count": null,
   "metadata": {
    "colab": {
     "base_uri": "https://localhost:8080/",
     "height": 193
    },
    "id": "bSpsE482qFxy",
    "outputId": "68c89397-184b-4b49-a567-890aa08ad1b5"
   },
   "outputs": [],
   "source": [
    "# save the fine-tuned model\n",
    "trainer.save_model(OUTPUT_DIR)\n",
    "tokenizer.save_pretrained(OUTPUT_DIR)"
   ]
  },
  {
   "cell_type": "markdown",
   "metadata": {},
   "source": [
    "#### Infrerence"
   ]
  },
  {
   "cell_type": "code",
   "execution_count": 8,
   "metadata": {},
   "outputs": [],
   "source": [
    "# define the generation function\n",
    "def generate_pros_cons(review, max_length=128, min_length=32, num_return_sequences=1, temperature=0.3, top_p=0.75, top_k=30):\n",
    "    \"\"\"\n",
    "    Generates pros and cons from a given review using a pre-trained language model.\n",
    "\n",
    "    Args:\n",
    "        review (str): The review text to generate pros and cons from.\n",
    "    \"\"\"\n",
    "\n",
    "    # tokenize the input\n",
    "    inputs = tokenizer.encode(review, return_tensors=\"pt\", truncation=True, max_length=512)\n",
    "    device = torch.device(\"cuda\" if torch.cuda.is_available() else \"cpu\")\n",
    "    model.to(device)\n",
    "    inputs = inputs.to(device)\n",
    "\n",
    "    # generate the output\n",
    "    with torch.no_grad():\n",
    "        outputs = model.generate(\n",
    "            inputs,\n",
    "            do_sample=True,\n",
    "            max_length=max_length,\n",
    "            min_length=min_length,\n",
    "            num_return_sequences=num_return_sequences,\n",
    "            no_repeat_ngram_size=2,\n",
    "            top_p=top_p,\n",
    "            temperature=temperature,\n",
    "            top_k=top_k,\n",
    "            early_stopping=True,\n",
    "            pad_token_id=tokenizer.eos_token_id\n",
    "        )\n",
    "\n",
    "    # decode the generated tokens\n",
    "    generated = [tokenizer.decode(output, skip_special_tokens=True) for output in outputs]\n",
    "    return generated"
   ]
  },
  {
   "cell_type": "code",
   "execution_count": 85,
   "metadata": {},
   "outputs": [],
   "source": [
    "test_data = pd.read_csv('data/test.csv')"
   ]
  },
  {
   "cell_type": "code",
   "execution_count": 10,
   "metadata": {},
   "outputs": [
    {
     "name": "stdout",
     "output_type": "stream",
     "text": [
      "Review: Уютное и приятное место в центре города. Проводили деловую встречу с желанием перекусить. К огромному сожалению ждали официантов целый час, в итоге ограничились напитками и ушли. При этом зал был почти пустым,официанты просто занимались непонятно чем. По случаю приобрела в кафе Пасхальный кулич - и это божественно вкусно. В общем итог- кафе, кофе и выпечка, только за это 4*, работа официантов 1* и та в минусе.\n",
      "Pros and Cons: ['Сильные стороны: 1. Уютная и приятное место. 2. Вкусная еда (пасхальный кулич). Слабые стороны (долгое ожидание официантов). 2. Пустой зал. 3. Невнимательность персонала (официанты отвлекаются на непонятные занятия).']\n"
     ]
    }
   ],
   "source": [
    "# select a sample review from the test data\n",
    "sample = test_data['clean_text'].loc[12]\n",
    "print(f\"Review: {sample}\")\n",
    "\n",
    "# generate pros and cons for the selected review\n",
    "pros_cons = generate_pros_cons(sample)\n",
    "print(f\"Pros and Cons: {pros_cons}\")"
   ]
  },
  {
   "cell_type": "code",
   "execution_count": 38,
   "metadata": {},
   "outputs": [
    {
     "name": "stdout",
     "output_type": "stream",
     "text": [
      "Review: Роллы с майонезом, то есть - рис залитый мазиком - не вкусно Бао так же залито мазиком - не вкусно Доставка по Пятигорску с ожиданием в 2 часа Вся ваша еда по вкусу как салат из дешевой столовки После этой «еды», один из нас отравился ел бао с курицей\n",
      "Pros and Cons: ['Сильные стороны: не выявлены Слабые стороны (невкусные роллы с майонезом, рис залит мазиком) 2. Долгое ожидание доставки по Пятигорску 3. Качество еды (бао с курицей)']\n"
     ]
    }
   ],
   "source": [
    "# select a sample review from the test data\n",
    "sample = test_data['clean_text'].loc[1]\n",
    "print(f\"Review: {sample}\")\n",
    "\n",
    "# generate pros and cons for the selected review\n",
    "pros_cons = generate_pros_cons(sample)\n",
    "print(f\"Pros and Cons: {pros_cons}\")"
   ]
  },
  {
   "cell_type": "code",
   "execution_count": 40,
   "metadata": {},
   "outputs": [
    {
     "name": "stdout",
     "output_type": "stream",
     "text": [
      "Review: Заказ был сделан в 17:00. 2 - 2,5 часа ожидание, как у всех. Итог - время 21:30 - так ничего и нет. При звонке в эту контору отвечает автоответчик, 2 минуты музыки и вызов завершен. Звонили раз 10 с разных номеров - ответ один - все операторы заняты. Не знаю, во сколько теперь приедет курьер, но заказ будет отменен. Над доставкой в этой конторе стоит поработать. Зато при оформлении заказа девушка так старалась \"продать\" дополнительно палочки!, имбирь, соусы и прочие вкусности, что имеются в меню. Задумайтесь, прежде чем заказывать в этом месте. Скупой платит дважды. Вечер можно считать испорченным.\n",
      "Pros and Cons: ['Сильные стороны: не выявлены Слабые стороны (долгое ожидание заказа) 2. Некорректное общение с автоответчиком 3. Недостаток персонала 4. Несвоевременная доставка (заказ отменен) 5. Несоответствие времени доставки заявленному времени 6. Недовольство качеством доставки']\n"
     ]
    }
   ],
   "source": [
    "# select a sample review from the test data\n",
    "sample = test_data['clean_text'].loc[4]\n",
    "print(f\"Review: {sample}\")\n",
    "\n",
    "# generate pros and cons for the selected review\n",
    "pros_cons = generate_pros_cons(sample)\n",
    "print(f\"Pros and Cons: {pros_cons}\")"
   ]
  },
  {
   "cell_type": "markdown",
   "metadata": {},
   "source": [
    "#### ROUGE"
   ]
  },
  {
   "cell_type": "code",
   "execution_count": 88,
   "metadata": {},
   "outputs": [
    {
     "name": "stdout",
     "output_type": "stream",
     "text": [
      "rouge1: Precision: 1.00, Recall: 0.60, F1-Score: 0.75\n",
      "rougeL: Precision: 1.00, Recall: 0.60, F1-Score: 0.75\n"
     ]
    }
   ],
   "source": [
    "def compute_rouge_scores(test_data, index, scorer):\n",
    "    \"\"\"\n",
    "    Computes ROUGE scores for a given sample from the test data.\n",
    "\n",
    "    Args:\n",
    "        test_data (pd.DataFrame): The test dataset containing 'clean_text' and 'synthetic' columns.\n",
    "        index (int): The index of the sample to evaluate.\n",
    "        scorer (rouge_scorer.RougeScorer): The ROUGE scorer object.\n",
    "    Returns:\n",
    "        dict: A dictionary containing the ROUGE scores.\n",
    "    \"\"\"\n",
    "    sample = test_data['clean_text'].loc[index]\n",
    "    reference = test_data['synthetic'].loc[index]\n",
    "    predicted = ' '.join(generate_pros_cons(sample))\n",
    "\n",
    "    scores = scorer.score(reference, predicted)\n",
    "    return scores\n",
    "\n",
    "scorer = rouge_scorer.RougeScorer(['rouge1', 'rougeL'], use_stemmer=True)\n",
    "index = 4\n",
    "scores = compute_rouge_scores(test_data, index, scorer)\n",
    "\n",
    "for key, value in scores.items():\n",
    "    print(f\"{key}: Precision: {value.precision:.2f}, Recall: {value.recall:.2f}, F1-Score: {value.fmeasure:.2f}\")"
   ]
  },
  {
   "cell_type": "code",
   "execution_count": 89,
   "metadata": {},
   "outputs": [
    {
     "name": "stderr",
     "output_type": "stream",
     "text": [
      "100%|██████████| 47/47 [01:56<00:00,  2.48s/it]\n"
     ]
    }
   ],
   "source": [
    "all_scores = []\n",
    "\n",
    "for i in tqdm(range(len(test_data))):\n",
    "    scores = compute_rouge_scores(test_data, i, scorer)\n",
    "    # Extract scores into a dictionary or row format\n",
    "    row = {\n",
    "        'index': i,\n",
    "        'rouge1_precision': scores['rouge1'].precision,\n",
    "        'rouge1_recall': scores['rouge1'].recall,\n",
    "        'rouge1_f1': scores['rouge1'].fmeasure,\n",
    "        'rougeL_precision': scores['rougeL'].precision,\n",
    "        'rougeL_recall': scores['rougeL'].recall,\n",
    "        'rougeL_f1': scores['rougeL'].fmeasure\n",
    "    }\n",
    "    all_scores.append(row)\n",
    "\n",
    "scores_df = pd.DataFrame(all_scores)"
   ]
  },
  {
   "cell_type": "code",
   "execution_count": 91,
   "metadata": {},
   "outputs": [
    {
     "data": {
      "image/png": "[encoded data removed]",
      "text/plain": [
       "<Figure size 1600x600 with 2 Axes>"
      ]
     },
     "metadata": {},
     "output_type": "display_data"
    }
   ],
   "source": [
    "# visualize the Results\n",
    "fig, axes = plt.subplots(1, 2, figsize=(16, 6))\n",
    "\n",
    "# plot the distribution of ROUGE-L F1 Scores\n",
    "sns.histplot(data=scores_df, x='rougeL_f1', bins=30, kde=True, ax=axes[0])\n",
    "axes[0].set_title('Distribution of ROUGE-L F1 Scores')\n",
    "axes[0].set_xlabel('ROUGE-L F1 Score')\n",
    "axes[0].set_ylabel('Count')\n",
    "\n",
    "# plot the boxplot for ROUGE-1 Scores\n",
    "sns.boxplot(data=scores_df[['rouge1_precision', 'rouge1_recall', 'rouge1_f1']], ax=axes[1])\n",
    "axes[1].set_title('ROUGE-1 Score Distribution')\n",
    "axes[1].set_ylabel('Score')\n",
    "\n",
    "plt.tight_layout()\n",
    "plt.show()"
   ]
  }
 ],
 "metadata": {
  "accelerator": "GPU",
  "colab": {
   "collapsed_sections": [
    "jSH7ytL06thd"
   ],
   "gpuType": "T4",
   "provenance": []
  },
  "kernelspec": {
   "display_name": "Python 3",
   "name": "python3"
  },
  "language_info": {
   "codemirror_mode": {
    "name": "ipython",
    "version": 3
   },
   "file_extension": ".py",
   "mimetype": "text/x-python",
   "name": "python",
   "nbconvert_exporter": "python",
   "pygments_lexer": "ipython3",
   "version": "3.12.4"
  }
 },
 "nbformat": 4,
 "nbformat_minor": 0
}
