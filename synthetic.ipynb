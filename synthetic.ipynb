{
 "cells": [
  {
   "cell_type": "code",
   "execution_count": null,
   "metadata": {},
   "outputs": [],
   "source": [
    "import os\n",
    "import time\n",
    "import pandas as pd\n",
    "from dotenv import load_dotenv\n",
    "from langchain.prompts import PromptTemplate\n",
    "from langchain.chat_models.gigachat import GigaChat\n",
    "from langchain_core.output_parsers import StrOutputParser"
   ]
  },
  {
   "cell_type": "code",
   "execution_count": null,
   "metadata": {},
   "outputs": [],
   "source": [
    "load_dotenv()\n",
    "\n",
    "GIGACHAT_AUTH = os.getenv('GIGACHAT_AUTH')"
   ]
  },
  {
   "cell_type": "code",
   "execution_count": null,
   "metadata": {},
   "outputs": [],
   "source": [
    "# Инициализация llm \n",
    "llm = GigaChat(model = \"GigaChat-Pro\", # \"GigaChat-Pro\" / \"GigaChat-Plus\" (32k)\n",
    "               temperature = 0.2,\n",
    "               credentials = GIGACHAT_AUTH, \n",
    "               scope = 'GIGACHAT_API_CORP',\n",
    "               verify_ssl_certs = False)"
   ]
  },
  {
   "cell_type": "code",
   "execution_count": null,
   "metadata": {},
   "outputs": [],
   "source": [
    "# Загружаем данные\n",
    "data = pd.read_csv('data/balanced.csv')"
   ]
  },
  {
   "cell_type": "code",
   "execution_count": null,
   "metadata": {},
   "outputs": [],
   "source": [
    "# Парсер\n",
    "parser = StrOutputParser()\n",
    "\n",
    "# Промпт для дополненной генерации\n",
    "template = \"\"\"\n",
    "Вы эксперт в области обработки информации.\n",
    "\n",
    "Ваша задача: На основе предоставленного отзыва определите и структурируйте информацию о заведении. \n",
    "             Разделите текст на две части: сильные стороны и слабые стороны.\n",
    "\n",
    "        Инструкция:\n",
    "\n",
    "        1. Прочтите текст отзыва.\n",
    "        2. Выделите конкретные аспекты заведения, упомянутые в отзыве (например, обслуживание, качество продукта, атмосфера).\n",
    "        3. Отнесите каждый аспект к одной из двух категорий:\n",
    "\n",
    "                - Сильные стороны: аспекты, которые были положительно оценены в отзыве.\n",
    "                - Слабые стороны: аспекты, которые вызвали негативные эмоции или упоминания о недостатках.\n",
    "\n",
    "Если отзыв содержит общие фразы без конкретики (например, \"всё хорошо\" или \"не понравилось\" или \"в целом понравилось\"), \n",
    "укажите это как \"нет конкретики\" в соответствующей категории.\n",
    "Используйте только те аспекты, которые явно упомянуты в отзыве. Не делайте предположений, если информация отсутствует. \n",
    "\n",
    "                Отзыв: {post}\n",
    "\n",
    "Ваш ответ должен быть структурирован строго в виде списка:\n",
    "\n",
    "        Сильные стороны:\n",
    "                1. ...\n",
    "                2. ...\n",
    "\n",
    "        Слабые стороны:\n",
    "                1. ...\n",
    "                2. ...\n",
    "\n",
    "Важно: Только сильные и слабые стороны, без упоминания отзыва.\n",
    "\"\"\"\n",
    "\n",
    "prompt = PromptTemplate(template=template, input_variables=['post'])\n",
    "\n",
    "# Цепь генерации \n",
    "chain = prompt | llm | parser"
   ]
  },
  {
   "cell_type": "code",
   "execution_count": null,
   "metadata": {},
   "outputs": [
    {
     "name": "stdout",
     "output_type": "stream",
     "text": [
      "**Сильные стороны:**\n",
      "1. Чистота в номерах.\n",
      "2. Уровень уборки номеров.\n",
      "3. Прекрасное расположение (до моря 5 минут).\n",
      "4. Хорошая территория.\n",
      "5. В целом всё понравилось.\n",
      "\n",
      "**Слабые стороны:**\n",
      "1. Номерной фонд немного ушатан.\n",
      "2. Качество еды на ужине оценивается на троечку.\n",
      "3. Еда на ужин однообразная, ощущается, что подают остатки с завтрака и обеда.\n"
     ]
    }
   ],
   "source": [
    "# Проверяем вывод модели \n",
    "sample = data['clean_text'].loc[12000]\n",
    "result = chain.invoke({\"post\":sample})\n",
    "print(result)"
   ]
  },
  {
   "cell_type": "code",
   "execution_count": null,
   "metadata": {},
   "outputs": [],
   "source": [
    "# Проверка наличия столбца 'synthetic' \n",
    "if 'synthetic' not in data.columns:\n",
    "    data['synthetic'] = \"\"\n",
    "\n",
    "# Максимальное количество попыток и задержка между ними\n",
    "MAX_RETRIES = 5\n",
    "RETRY_DELAY = 5\n",
    "\n",
    "# Обработка каждой строки данных\n",
    "for index, row in data.iterrows():\n",
    "    # Пропуск строк, которые уже обработаны\n",
    "    if pd.notna(row['synthetic']) and row['synthetic'].strip() != \"\":\n",
    "        print(f\"Row {index} already processed. Skipping.\")\n",
    "        continue\n",
    "\n",
    "    attempt = 0\n",
    "    while attempt < MAX_RETRIES:\n",
    "        try:\n",
    "            # Текст для обработки из столбца 'clean_text'\n",
    "            sample = row['clean_text']\n",
    "            print(f\"Processing row {index} (Attempt {attempt + 1})...\")\n",
    "            \n",
    "            # Вызов llm для обработки текста\n",
    "            result = chain.invoke({\"post\": sample})\n",
    "            \n",
    "            # Сохранение результата\n",
    "            data.at[index, 'synthetic'] = result\n",
    "            \n",
    "            # Сохранение данных\n",
    "            data.to_csv('data/synthetic.csv', index=False)\n",
    "            print(f\"Row {index} processed successfully.\")\n",
    "            break \n",
    "        \n",
    "        except Exception as e:\n",
    "            attempt += 1\n",
    "            print(f\"Error processing row {index} on attempt {attempt}: {e}\")\n",
    "            \n",
    "            if attempt < MAX_RETRIES:\n",
    "                # Повторная попытка после задержки\n",
    "                print(f\"Retrying row {index} after {RETRY_DELAY} seconds...\")\n",
    "                time.sleep(RETRY_DELAY)\n",
    "            else:\n",
    "                # Если все попытки исчерпаны, помечаем строку как \"ERROR\"\n",
    "                print(f\"Failed to process row {index} after {MAX_RETRIES} attempts. Skipping.\")\n",
    "                data.at[index, 'synthetic'] = \"ERROR\"\n",
    "                data.to_csv('data/synthetic.csv', index=False)\n",
    "\n",
    "# Завершаем\n",
    "print(\"Saved to 'data/synthetic.csv'.\")"
   ]
  }
 ],
 "metadata": {
  "kernelspec": {
   "display_name": "Python 3",
   "language": "python",
   "name": "python3"
  },
  "language_info": {
   "codemirror_mode": {
    "name": "ipython",
    "version": 3
   },
   "file_extension": ".py",
   "mimetype": "text/x-python",
   "name": "python",
   "nbconvert_exporter": "python",
   "pygments_lexer": "ipython3",
   "version": "3.12.4"
  }
 },
 "nbformat": 4,
 "nbformat_minor": 2
}
